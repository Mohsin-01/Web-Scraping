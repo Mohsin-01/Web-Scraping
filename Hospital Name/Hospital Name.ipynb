{
 "cells": [
  {
   "cell_type": "markdown",
   "id": "a901a1f9",
   "metadata": {},
   "source": [
    "## Problem:\n",
    "\n",
    "##### Write a python algorithm that finds websited with the format https://12396.portal.athenahealth.com/ and runs through the different veriations of that and then pulls the practice name on the site into an excel file.\n",
    "\n",
    "#### Every site has the forat \"welcome to the _____ patient portal\" - so we would just need the algorithm to run through all of the different available nunber variations of the URL format and then pull the URL and the ____ from the \"welcome to the _____ patient portal\" part of the site into an excel file."
   ]
  },
  {
   "cell_type": "code",
   "execution_count": 38,
   "id": "e436aa84",
   "metadata": {},
   "outputs": [],
   "source": [
    "import requests as rq\n",
    "from bs4 import BeautifulSoup as bs\n",
    "import pandas as pd"
   ]
  },
  {
   "cell_type": "code",
   "execution_count": 39,
   "id": "44232c92",
   "metadata": {},
   "outputs": [],
   "source": [
    "def get_clinic_name(portal_id):\n",
    "    url         = f'https://{portal_id}.portal.athenahealth.com/'\n",
    "    response    = rq.get(url)\n",
    "    html        = response.text\n",
    "    soup        = bs(html,'html.parser') ## declare weather it's a html file or xml file, by 'html.parser' or 'xml.parser'\n",
    "    clinic_name = soup.find_all('h1')[-1].text.strip()\n",
    "    return clinic_name"
   ]
  },
  {
   "cell_type": "code",
   "execution_count": 42,
   "id": "dd0fd368",
   "metadata": {},
   "outputs": [],
   "source": [
    "start = 12690\n",
    "end   = 12700\n",
    "master_list = []\n",
    "for clinic_id in range(start, end+1):\n",
    "    data_dict                = {}\n",
    "    data_dict['Clinic ID']   = clinic_id\n",
    "    data_dict['Clinic Name'] = get_clinic_name(clinic_id)\n",
    "    if data_dict['Clinic Name'] != 'Payment Confirmation' and data_dict['Clinic Name'] != \"Sorry, we can't find that practice. Make sure you typed the right address.\":\n",
    "        master_list.append(data_dict)"
   ]
  },
  {
   "cell_type": "code",
   "execution_count": 44,
   "id": "f9c1e138",
   "metadata": {},
   "outputs": [
    {
     "data": {
      "text/plain": [
       "[{'Clinic ID': 12691, 'Clinic Name': 'Ergomedica'},\n",
       " {'Clinic ID': 12693, 'Clinic Name': 'Altamonte Family Practice'},\n",
       " {'Clinic ID': 12694, 'Clinic Name': 'Open Health Care Clinic'},\n",
       " {'Clinic ID': 12695, 'Clinic Name': 'Dr. Richard Handelsman'},\n",
       " {'Clinic ID': 12696, 'Clinic Name': \"Women's CenterforIntegrative Health\"},\n",
       " {'Clinic ID': 12697, 'Clinic Name': 'Eastern Urological Associates'}]"
      ]
     },
     "execution_count": 44,
     "metadata": {},
     "output_type": "execute_result"
    }
   ],
   "source": [
    "master_list"
   ]
  },
  {
   "cell_type": "code",
   "execution_count": 45,
   "id": "86c9043c",
   "metadata": {},
   "outputs": [
    {
     "data": {
      "text/html": [
       "<div>\n",
       "<style scoped>\n",
       "    .dataframe tbody tr th:only-of-type {\n",
       "        vertical-align: middle;\n",
       "    }\n",
       "\n",
       "    .dataframe tbody tr th {\n",
       "        vertical-align: top;\n",
       "    }\n",
       "\n",
       "    .dataframe thead th {\n",
       "        text-align: right;\n",
       "    }\n",
       "</style>\n",
       "<table border=\"1\" class=\"dataframe\">\n",
       "  <thead>\n",
       "    <tr style=\"text-align: right;\">\n",
       "      <th></th>\n",
       "      <th>Clinic ID</th>\n",
       "      <th>Clinic Name</th>\n",
       "    </tr>\n",
       "  </thead>\n",
       "  <tbody>\n",
       "    <tr>\n",
       "      <th>0</th>\n",
       "      <td>12691</td>\n",
       "      <td>Ergomedica</td>\n",
       "    </tr>\n",
       "    <tr>\n",
       "      <th>1</th>\n",
       "      <td>12693</td>\n",
       "      <td>Altamonte Family Practice</td>\n",
       "    </tr>\n",
       "    <tr>\n",
       "      <th>2</th>\n",
       "      <td>12694</td>\n",
       "      <td>Open Health Care Clinic</td>\n",
       "    </tr>\n",
       "    <tr>\n",
       "      <th>3</th>\n",
       "      <td>12695</td>\n",
       "      <td>Dr. Richard Handelsman</td>\n",
       "    </tr>\n",
       "    <tr>\n",
       "      <th>4</th>\n",
       "      <td>12696</td>\n",
       "      <td>Women's CenterforIntegrative Health</td>\n",
       "    </tr>\n",
       "    <tr>\n",
       "      <th>5</th>\n",
       "      <td>12697</td>\n",
       "      <td>Eastern Urological Associates</td>\n",
       "    </tr>\n",
       "  </tbody>\n",
       "</table>\n",
       "</div>"
      ],
      "text/plain": [
       "   Clinic ID                          Clinic Name\n",
       "0      12691                           Ergomedica\n",
       "1      12693            Altamonte Family Practice\n",
       "2      12694              Open Health Care Clinic\n",
       "3      12695               Dr. Richard Handelsman\n",
       "4      12696  Women's CenterforIntegrative Health\n",
       "5      12697        Eastern Urological Associates"
      ]
     },
     "execution_count": 45,
     "metadata": {},
     "output_type": "execute_result"
    }
   ],
   "source": [
    "df = pd.DataFrame(master_list)\n",
    "df"
   ]
  },
  {
   "cell_type": "code",
   "execution_count": 46,
   "id": "ee94cbb5",
   "metadata": {},
   "outputs": [],
   "source": [
    "df.to_csv('clinic_data.csv',index = False)"
   ]
  },
  {
   "cell_type": "code",
   "execution_count": null,
   "id": "889e8753",
   "metadata": {},
   "outputs": [],
   "source": []
  },
  {
   "cell_type": "code",
   "execution_count": null,
   "id": "826f2687",
   "metadata": {},
   "outputs": [],
   "source": []
  }
 ],
 "metadata": {
  "kernelspec": {
   "display_name": "Python 3 (ipykernel)",
   "language": "python",
   "name": "python3"
  },
  "language_info": {
   "codemirror_mode": {
    "name": "ipython",
    "version": 3
   },
   "file_extension": ".py",
   "mimetype": "text/x-python",
   "name": "python",
   "nbconvert_exporter": "python",
   "pygments_lexer": "ipython3",
   "version": "3.10.9"
  }
 },
 "nbformat": 4,
 "nbformat_minor": 5
}
